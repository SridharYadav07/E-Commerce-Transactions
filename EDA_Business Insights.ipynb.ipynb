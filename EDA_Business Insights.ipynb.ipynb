{
 "cells": [
  {
   "cell_type": "markdown",
   "id": "56e1388a-6960-47e5-9ad2-49eab7362d8e",
   "metadata": {},
   "source": [
    "#### Task 1: Exploratory data analysis\n",
    "#### Loading the dataset"
   ]
  },
  {
   "cell_type": "code",
   "execution_count": 28,
   "id": "6a54ec6a-93c6-4a77-93fd-ffc1dd4ce100",
   "metadata": {},
   "outputs": [],
   "source": [
    "import pandas as pd\n",
    "import numpy as np\n",
    "import matplotlib.pyplot as plt\n",
    "import seaborn as sns\n",
    "from datetime import datetime"
   ]
  },
  {
   "cell_type": "code",
   "execution_count": 2,
   "id": "b2dd826a-cc32-4f74-847d-8cefd110678e",
   "metadata": {},
   "outputs": [],
   "source": [
    "customers = pd.read_csv('Customers.csv')\n",
    "products = pd.read_csv('Products.csv')\n",
    "transactions = pd.read_csv('Transactions.csv')"
   ]
  },
  {
   "cell_type": "markdown",
   "id": "43e9711e-46cf-4481-8d92-17a471a7e019",
   "metadata": {},
   "source": [
    "#### displaying the first few rows of each dataset"
   ]
  },
  {
   "cell_type": "code",
   "execution_count": 19,
   "id": "f7561b24-bd0c-49b6-8f32-a1d4c937b60a",
   "metadata": {},
   "outputs": [
    {
     "data": {
      "text/html": [
       "<div>\n",
       "<style scoped>\n",
       "    .dataframe tbody tr th:only-of-type {\n",
       "        vertical-align: middle;\n",
       "    }\n",
       "\n",
       "    .dataframe tbody tr th {\n",
       "        vertical-align: top;\n",
       "    }\n",
       "\n",
       "    .dataframe thead th {\n",
       "        text-align: right;\n",
       "    }\n",
       "</style>\n",
       "<table border=\"1\" class=\"dataframe\">\n",
       "  <thead>\n",
       "    <tr style=\"text-align: right;\">\n",
       "      <th></th>\n",
       "      <th>CustomerID</th>\n",
       "      <th>CustomerName</th>\n",
       "      <th>Region</th>\n",
       "      <th>SignupDate</th>\n",
       "    </tr>\n",
       "  </thead>\n",
       "  <tbody>\n",
       "    <tr>\n",
       "      <th>0</th>\n",
       "      <td>C0001</td>\n",
       "      <td>Lawrence Carroll</td>\n",
       "      <td>South America</td>\n",
       "      <td>2022-07-10</td>\n",
       "    </tr>\n",
       "    <tr>\n",
       "      <th>1</th>\n",
       "      <td>C0002</td>\n",
       "      <td>Elizabeth Lutz</td>\n",
       "      <td>Asia</td>\n",
       "      <td>2022-02-13</td>\n",
       "    </tr>\n",
       "    <tr>\n",
       "      <th>2</th>\n",
       "      <td>C0003</td>\n",
       "      <td>Michael Rivera</td>\n",
       "      <td>South America</td>\n",
       "      <td>2024-03-07</td>\n",
       "    </tr>\n",
       "    <tr>\n",
       "      <th>3</th>\n",
       "      <td>C0004</td>\n",
       "      <td>Kathleen Rodriguez</td>\n",
       "      <td>South America</td>\n",
       "      <td>2022-10-09</td>\n",
       "    </tr>\n",
       "    <tr>\n",
       "      <th>4</th>\n",
       "      <td>C0005</td>\n",
       "      <td>Laura Weber</td>\n",
       "      <td>Asia</td>\n",
       "      <td>2022-08-15</td>\n",
       "    </tr>\n",
       "  </tbody>\n",
       "</table>\n",
       "</div>"
      ],
      "text/plain": [
       "  CustomerID        CustomerName         Region  SignupDate\n",
       "0      C0001    Lawrence Carroll  South America  2022-07-10\n",
       "1      C0002      Elizabeth Lutz           Asia  2022-02-13\n",
       "2      C0003      Michael Rivera  South America  2024-03-07\n",
       "3      C0004  Kathleen Rodriguez  South America  2022-10-09\n",
       "4      C0005         Laura Weber           Asia  2022-08-15"
      ]
     },
     "execution_count": 19,
     "metadata": {},
     "output_type": "execute_result"
    }
   ],
   "source": [
    "customers.head()"
   ]
  },
  {
   "cell_type": "code",
   "execution_count": 20,
   "id": "8fbb0ed9-7b62-495b-99fd-df5dfba4b685",
   "metadata": {},
   "outputs": [
    {
     "data": {
      "text/html": [
       "<div>\n",
       "<style scoped>\n",
       "    .dataframe tbody tr th:only-of-type {\n",
       "        vertical-align: middle;\n",
       "    }\n",
       "\n",
       "    .dataframe tbody tr th {\n",
       "        vertical-align: top;\n",
       "    }\n",
       "\n",
       "    .dataframe thead th {\n",
       "        text-align: right;\n",
       "    }\n",
       "</style>\n",
       "<table border=\"1\" class=\"dataframe\">\n",
       "  <thead>\n",
       "    <tr style=\"text-align: right;\">\n",
       "      <th></th>\n",
       "      <th>ProductID</th>\n",
       "      <th>ProductName</th>\n",
       "      <th>Category</th>\n",
       "      <th>Price</th>\n",
       "    </tr>\n",
       "  </thead>\n",
       "  <tbody>\n",
       "    <tr>\n",
       "      <th>0</th>\n",
       "      <td>P001</td>\n",
       "      <td>ActiveWear Biography</td>\n",
       "      <td>Books</td>\n",
       "      <td>169.30</td>\n",
       "    </tr>\n",
       "    <tr>\n",
       "      <th>1</th>\n",
       "      <td>P002</td>\n",
       "      <td>ActiveWear Smartwatch</td>\n",
       "      <td>Electronics</td>\n",
       "      <td>346.30</td>\n",
       "    </tr>\n",
       "    <tr>\n",
       "      <th>2</th>\n",
       "      <td>P003</td>\n",
       "      <td>ComfortLiving Biography</td>\n",
       "      <td>Books</td>\n",
       "      <td>44.12</td>\n",
       "    </tr>\n",
       "    <tr>\n",
       "      <th>3</th>\n",
       "      <td>P004</td>\n",
       "      <td>BookWorld Rug</td>\n",
       "      <td>Home Decor</td>\n",
       "      <td>95.69</td>\n",
       "    </tr>\n",
       "    <tr>\n",
       "      <th>4</th>\n",
       "      <td>P005</td>\n",
       "      <td>TechPro T-Shirt</td>\n",
       "      <td>Clothing</td>\n",
       "      <td>429.31</td>\n",
       "    </tr>\n",
       "  </tbody>\n",
       "</table>\n",
       "</div>"
      ],
      "text/plain": [
       "  ProductID              ProductName     Category   Price\n",
       "0      P001     ActiveWear Biography        Books  169.30\n",
       "1      P002    ActiveWear Smartwatch  Electronics  346.30\n",
       "2      P003  ComfortLiving Biography        Books   44.12\n",
       "3      P004            BookWorld Rug   Home Decor   95.69\n",
       "4      P005          TechPro T-Shirt     Clothing  429.31"
      ]
     },
     "execution_count": 20,
     "metadata": {},
     "output_type": "execute_result"
    }
   ],
   "source": [
    "products.head()"
   ]
  },
  {
   "cell_type": "code",
   "execution_count": 21,
   "id": "19e5a9cf-4e6e-48f7-8cb5-b496cf4570e4",
   "metadata": {},
   "outputs": [
    {
     "data": {
      "text/html": [
       "<div>\n",
       "<style scoped>\n",
       "    .dataframe tbody tr th:only-of-type {\n",
       "        vertical-align: middle;\n",
       "    }\n",
       "\n",
       "    .dataframe tbody tr th {\n",
       "        vertical-align: top;\n",
       "    }\n",
       "\n",
       "    .dataframe thead th {\n",
       "        text-align: right;\n",
       "    }\n",
       "</style>\n",
       "<table border=\"1\" class=\"dataframe\">\n",
       "  <thead>\n",
       "    <tr style=\"text-align: right;\">\n",
       "      <th></th>\n",
       "      <th>TransactionID</th>\n",
       "      <th>CustomerID</th>\n",
       "      <th>ProductID</th>\n",
       "      <th>TransactionDate</th>\n",
       "      <th>Quantity</th>\n",
       "      <th>TotalValue</th>\n",
       "      <th>Price</th>\n",
       "    </tr>\n",
       "  </thead>\n",
       "  <tbody>\n",
       "    <tr>\n",
       "      <th>0</th>\n",
       "      <td>T00001</td>\n",
       "      <td>C0199</td>\n",
       "      <td>P067</td>\n",
       "      <td>2024-08-25 12:38:23</td>\n",
       "      <td>1</td>\n",
       "      <td>300.68</td>\n",
       "      <td>300.68</td>\n",
       "    </tr>\n",
       "    <tr>\n",
       "      <th>1</th>\n",
       "      <td>T00112</td>\n",
       "      <td>C0146</td>\n",
       "      <td>P067</td>\n",
       "      <td>2024-05-27 22:23:54</td>\n",
       "      <td>1</td>\n",
       "      <td>300.68</td>\n",
       "      <td>300.68</td>\n",
       "    </tr>\n",
       "    <tr>\n",
       "      <th>2</th>\n",
       "      <td>T00166</td>\n",
       "      <td>C0127</td>\n",
       "      <td>P067</td>\n",
       "      <td>2024-04-25 07:38:55</td>\n",
       "      <td>1</td>\n",
       "      <td>300.68</td>\n",
       "      <td>300.68</td>\n",
       "    </tr>\n",
       "    <tr>\n",
       "      <th>3</th>\n",
       "      <td>T00272</td>\n",
       "      <td>C0087</td>\n",
       "      <td>P067</td>\n",
       "      <td>2024-03-26 22:55:37</td>\n",
       "      <td>2</td>\n",
       "      <td>601.36</td>\n",
       "      <td>300.68</td>\n",
       "    </tr>\n",
       "    <tr>\n",
       "      <th>4</th>\n",
       "      <td>T00363</td>\n",
       "      <td>C0070</td>\n",
       "      <td>P067</td>\n",
       "      <td>2024-03-21 15:10:10</td>\n",
       "      <td>3</td>\n",
       "      <td>902.04</td>\n",
       "      <td>300.68</td>\n",
       "    </tr>\n",
       "  </tbody>\n",
       "</table>\n",
       "</div>"
      ],
      "text/plain": [
       "  TransactionID CustomerID ProductID      TransactionDate  Quantity  \\\n",
       "0        T00001      C0199      P067  2024-08-25 12:38:23         1   \n",
       "1        T00112      C0146      P067  2024-05-27 22:23:54         1   \n",
       "2        T00166      C0127      P067  2024-04-25 07:38:55         1   \n",
       "3        T00272      C0087      P067  2024-03-26 22:55:37         2   \n",
       "4        T00363      C0070      P067  2024-03-21 15:10:10         3   \n",
       "\n",
       "   TotalValue   Price  \n",
       "0      300.68  300.68  \n",
       "1      300.68  300.68  \n",
       "2      300.68  300.68  \n",
       "3      601.36  300.68  \n",
       "4      902.04  300.68  "
      ]
     },
     "execution_count": 21,
     "metadata": {},
     "output_type": "execute_result"
    }
   ],
   "source": [
    "transactions.head()"
   ]
  },
  {
   "cell_type": "markdown",
   "id": "d050e574-c01b-4d46-bbab-6e67257b6417",
   "metadata": {},
   "source": [
    "#### converting columns to proper data types"
   ]
  },
  {
   "cell_type": "code",
   "execution_count": 29,
   "id": "ae62c939-5323-4bec-aa23-bc9394bfdf1f",
   "metadata": {},
   "outputs": [
    {
     "data": {
      "text/plain": [
       "0     2022-07-10\n",
       "1     2022-02-13\n",
       "2     2024-03-07\n",
       "3     2022-10-09\n",
       "4     2022-08-15\n",
       "         ...    \n",
       "195   2022-06-07\n",
       "196   2023-03-21\n",
       "197   2022-02-27\n",
       "198   2022-12-03\n",
       "199   2023-06-11\n",
       "Name: SignupDate, Length: 200, dtype: datetime64[ns]"
      ]
     },
     "execution_count": 29,
     "metadata": {},
     "output_type": "execute_result"
    }
   ],
   "source": [
    "customers['SignupDate'] = pd.to_datetime(customers['SignupDate'])\n",
    "customers['SignupDate']"
   ]
  },
  {
   "cell_type": "code",
   "execution_count": 30,
   "id": "0bff6d89-5dba-4ea4-b51d-e770bd84c6d0",
   "metadata": {},
   "outputs": [
    {
     "data": {
      "text/plain": [
       "0     2024-08-25 12:38:23\n",
       "1     2024-05-27 22:23:54\n",
       "2     2024-04-25 07:38:55\n",
       "3     2024-03-26 22:55:37\n",
       "4     2024-03-21 15:10:10\n",
       "              ...        \n",
       "995   2024-10-24 08:30:27\n",
       "996   2024-06-04 02:15:24\n",
       "997   2024-04-05 13:05:32\n",
       "998   2024-09-29 10:16:02\n",
       "999   2024-04-21 10:52:24\n",
       "Name: TransactionDate, Length: 1000, dtype: datetime64[ns]"
      ]
     },
     "execution_count": 30,
     "metadata": {},
     "output_type": "execute_result"
    }
   ],
   "source": [
    "transactions['TransactionDate'] = pd.to_datetime(transactions['TransactionDate'])\n",
    "transactions['TransactionDate']"
   ]
  },
  {
   "cell_type": "markdown",
   "id": "3a600ad1-5d67-4777-b8ef-d65bf2f65900",
   "metadata": {},
   "source": [
    "#### Checking for missing values, duplicates and data types"
   ]
  },
  {
   "cell_type": "code",
   "execution_count": 4,
   "id": "40cd752b-9b65-4220-ad8a-dfef4e0a9096",
   "metadata": {},
   "outputs": [
    {
     "name": "stdout",
     "output_type": "stream",
     "text": [
      "<class 'pandas.core.frame.DataFrame'>\n",
      "RangeIndex: 200 entries, 0 to 199\n",
      "Data columns (total 4 columns):\n",
      " #   Column        Non-Null Count  Dtype \n",
      "---  ------        --------------  ----- \n",
      " 0   CustomerID    200 non-null    object\n",
      " 1   CustomerName  200 non-null    object\n",
      " 2   Region        200 non-null    object\n",
      " 3   SignupDate    200 non-null    object\n",
      "dtypes: object(4)\n",
      "memory usage: 6.4+ KB\n",
      "<class 'pandas.core.frame.DataFrame'>\n",
      "RangeIndex: 100 entries, 0 to 99\n",
      "Data columns (total 4 columns):\n",
      " #   Column       Non-Null Count  Dtype  \n",
      "---  ------       --------------  -----  \n",
      " 0   ProductID    100 non-null    object \n",
      " 1   ProductName  100 non-null    object \n",
      " 2   Category     100 non-null    object \n",
      " 3   Price        100 non-null    float64\n",
      "dtypes: float64(1), object(3)\n",
      "memory usage: 3.3+ KB\n",
      "<class 'pandas.core.frame.DataFrame'>\n",
      "RangeIndex: 1000 entries, 0 to 999\n",
      "Data columns (total 7 columns):\n",
      " #   Column           Non-Null Count  Dtype  \n",
      "---  ------           --------------  -----  \n",
      " 0   TransactionID    1000 non-null   object \n",
      " 1   CustomerID       1000 non-null   object \n",
      " 2   ProductID        1000 non-null   object \n",
      " 3   TransactionDate  1000 non-null   object \n",
      " 4   Quantity         1000 non-null   int64  \n",
      " 5   TotalValue       1000 non-null   float64\n",
      " 6   Price            1000 non-null   float64\n",
      "dtypes: float64(2), int64(1), object(4)\n",
      "memory usage: 54.8+ KB\n"
     ]
    }
   ],
   "source": [
    "customers.info()\n",
    "products.info()\n",
    "transactions.info()"
   ]
  },
  {
   "cell_type": "markdown",
   "id": "d36606ec-7f73-43f3-b6b4-7fcae6e4377e",
   "metadata": {},
   "source": [
    "#### checking for missing values"
   ]
  },
  {
   "cell_type": "code",
   "execution_count": 10,
   "id": "2088cac6-26be-4cbf-a5a3-cfcce03deb00",
   "metadata": {},
   "outputs": [
    {
     "data": {
      "text/plain": [
       "CustomerID      0\n",
       "CustomerName    0\n",
       "Region          0\n",
       "SignupDate      0\n",
       "dtype: int64"
      ]
     },
     "execution_count": 10,
     "metadata": {},
     "output_type": "execute_result"
    }
   ],
   "source": [
    "customers.isnull().sum()"
   ]
  },
  {
   "cell_type": "code",
   "execution_count": 11,
   "id": "40cc6ca0-fd96-4a73-8307-3d74989733f6",
   "metadata": {},
   "outputs": [
    {
     "data": {
      "text/plain": [
       "ProductID      0\n",
       "ProductName    0\n",
       "Category       0\n",
       "Price          0\n",
       "dtype: int64"
      ]
     },
     "execution_count": 11,
     "metadata": {},
     "output_type": "execute_result"
    }
   ],
   "source": [
    "products.isnull().sum()"
   ]
  },
  {
   "cell_type": "code",
   "execution_count": 13,
   "id": "a256066e-0f79-4bd0-8f1c-9311d9df5841",
   "metadata": {},
   "outputs": [
    {
     "data": {
      "text/plain": [
       "TransactionID      0\n",
       "CustomerID         0\n",
       "ProductID          0\n",
       "TransactionDate    0\n",
       "Quantity           0\n",
       "TotalValue         0\n",
       "Price              0\n",
       "dtype: int64"
      ]
     },
     "execution_count": 13,
     "metadata": {},
     "output_type": "execute_result"
    }
   ],
   "source": [
    "transactions.isnull().sum()"
   ]
  },
  {
   "cell_type": "markdown",
   "id": "e02cc3ad-4861-41fc-af60-e304323172d8",
   "metadata": {},
   "source": [
    "#### checking for duplicates "
   ]
  },
  {
   "cell_type": "code",
   "execution_count": 15,
   "id": "702721ab-5ef7-4359-958e-75f3a164f7a2",
   "metadata": {},
   "outputs": [
    {
     "data": {
      "text/plain": [
       "0      False\n",
       "1      False\n",
       "2      False\n",
       "3      False\n",
       "4      False\n",
       "       ...  \n",
       "195    False\n",
       "196    False\n",
       "197    False\n",
       "198    False\n",
       "199    False\n",
       "Length: 200, dtype: bool"
      ]
     },
     "execution_count": 15,
     "metadata": {},
     "output_type": "execute_result"
    }
   ],
   "source": [
    "duplicate_rows = customers.duplicated()\n",
    "duplicate_rows"
   ]
  },
  {
   "cell_type": "code",
   "execution_count": 16,
   "id": "7a6807fd-421b-48dc-b934-b7748c30197c",
   "metadata": {},
   "outputs": [
    {
     "data": {
      "text/plain": [
       "0     False\n",
       "1     False\n",
       "2     False\n",
       "3     False\n",
       "4     False\n",
       "      ...  \n",
       "95    False\n",
       "96    False\n",
       "97    False\n",
       "98    False\n",
       "99    False\n",
       "Length: 100, dtype: bool"
      ]
     },
     "execution_count": 16,
     "metadata": {},
     "output_type": "execute_result"
    }
   ],
   "source": [
    "duplicate_rows = products.duplicated()\n",
    "duplicate_rows"
   ]
  },
  {
   "cell_type": "code",
   "execution_count": 17,
   "id": "2d29d077-1e3c-45b3-8139-09a068a862b9",
   "metadata": {},
   "outputs": [
    {
     "data": {
      "text/plain": [
       "0      False\n",
       "1      False\n",
       "2      False\n",
       "3      False\n",
       "4      False\n",
       "       ...  \n",
       "995    False\n",
       "996    False\n",
       "997    False\n",
       "998    False\n",
       "999    False\n",
       "Length: 1000, dtype: bool"
      ]
     },
     "execution_count": 17,
     "metadata": {},
     "output_type": "execute_result"
    }
   ],
   "source": [
    "duplicate_rows = transactions.duplicated()\n",
    "duplicate_rows"
   ]
  },
  {
   "cell_type": "markdown",
   "id": "3fdc54eb-a9be-4837-95ac-1a0ba70a883e",
   "metadata": {},
   "source": [
    "#### summary statistics for numerical columns"
   ]
  },
  {
   "cell_type": "code",
   "execution_count": 6,
   "id": "d322bba2-4dd9-4f2a-991c-c9f74d4e463f",
   "metadata": {},
   "outputs": [
    {
     "data": {
      "text/html": [
       "<div>\n",
       "<style scoped>\n",
       "    .dataframe tbody tr th:only-of-type {\n",
       "        vertical-align: middle;\n",
       "    }\n",
       "\n",
       "    .dataframe tbody tr th {\n",
       "        vertical-align: top;\n",
       "    }\n",
       "\n",
       "    .dataframe thead th {\n",
       "        text-align: right;\n",
       "    }\n",
       "</style>\n",
       "<table border=\"1\" class=\"dataframe\">\n",
       "  <thead>\n",
       "    <tr style=\"text-align: right;\">\n",
       "      <th></th>\n",
       "      <th>CustomerID</th>\n",
       "      <th>CustomerName</th>\n",
       "      <th>Region</th>\n",
       "      <th>SignupDate</th>\n",
       "    </tr>\n",
       "  </thead>\n",
       "  <tbody>\n",
       "    <tr>\n",
       "      <th>count</th>\n",
       "      <td>200</td>\n",
       "      <td>200</td>\n",
       "      <td>200</td>\n",
       "      <td>200</td>\n",
       "    </tr>\n",
       "    <tr>\n",
       "      <th>unique</th>\n",
       "      <td>200</td>\n",
       "      <td>200</td>\n",
       "      <td>4</td>\n",
       "      <td>179</td>\n",
       "    </tr>\n",
       "    <tr>\n",
       "      <th>top</th>\n",
       "      <td>C0001</td>\n",
       "      <td>Lawrence Carroll</td>\n",
       "      <td>South America</td>\n",
       "      <td>2024-11-11</td>\n",
       "    </tr>\n",
       "    <tr>\n",
       "      <th>freq</th>\n",
       "      <td>1</td>\n",
       "      <td>1</td>\n",
       "      <td>59</td>\n",
       "      <td>3</td>\n",
       "    </tr>\n",
       "  </tbody>\n",
       "</table>\n",
       "</div>"
      ],
      "text/plain": [
       "       CustomerID      CustomerName         Region  SignupDate\n",
       "count         200               200            200         200\n",
       "unique        200               200              4         179\n",
       "top         C0001  Lawrence Carroll  South America  2024-11-11\n",
       "freq            1                 1             59           3"
      ]
     },
     "execution_count": 6,
     "metadata": {},
     "output_type": "execute_result"
    }
   ],
   "source": [
    "customers.describe()"
   ]
  },
  {
   "cell_type": "code",
   "execution_count": 7,
   "id": "00b34e14-62be-4444-956e-417b71fb579f",
   "metadata": {},
   "outputs": [
    {
     "data": {
      "text/html": [
       "<div>\n",
       "<style scoped>\n",
       "    .dataframe tbody tr th:only-of-type {\n",
       "        vertical-align: middle;\n",
       "    }\n",
       "\n",
       "    .dataframe tbody tr th {\n",
       "        vertical-align: top;\n",
       "    }\n",
       "\n",
       "    .dataframe thead th {\n",
       "        text-align: right;\n",
       "    }\n",
       "</style>\n",
       "<table border=\"1\" class=\"dataframe\">\n",
       "  <thead>\n",
       "    <tr style=\"text-align: right;\">\n",
       "      <th></th>\n",
       "      <th>Price</th>\n",
       "    </tr>\n",
       "  </thead>\n",
       "  <tbody>\n",
       "    <tr>\n",
       "      <th>count</th>\n",
       "      <td>100.000000</td>\n",
       "    </tr>\n",
       "    <tr>\n",
       "      <th>mean</th>\n",
       "      <td>267.551700</td>\n",
       "    </tr>\n",
       "    <tr>\n",
       "      <th>std</th>\n",
       "      <td>143.219383</td>\n",
       "    </tr>\n",
       "    <tr>\n",
       "      <th>min</th>\n",
       "      <td>16.080000</td>\n",
       "    </tr>\n",
       "    <tr>\n",
       "      <th>25%</th>\n",
       "      <td>147.767500</td>\n",
       "    </tr>\n",
       "    <tr>\n",
       "      <th>50%</th>\n",
       "      <td>292.875000</td>\n",
       "    </tr>\n",
       "    <tr>\n",
       "      <th>75%</th>\n",
       "      <td>397.090000</td>\n",
       "    </tr>\n",
       "    <tr>\n",
       "      <th>max</th>\n",
       "      <td>497.760000</td>\n",
       "    </tr>\n",
       "  </tbody>\n",
       "</table>\n",
       "</div>"
      ],
      "text/plain": [
       "            Price\n",
       "count  100.000000\n",
       "mean   267.551700\n",
       "std    143.219383\n",
       "min     16.080000\n",
       "25%    147.767500\n",
       "50%    292.875000\n",
       "75%    397.090000\n",
       "max    497.760000"
      ]
     },
     "execution_count": 7,
     "metadata": {},
     "output_type": "execute_result"
    }
   ],
   "source": [
    "products.describe()"
   ]
  },
  {
   "cell_type": "code",
   "execution_count": 8,
   "id": "363a252b-956d-49a3-8e69-80cedb87ecf6",
   "metadata": {},
   "outputs": [
    {
     "data": {
      "text/html": [
       "<div>\n",
       "<style scoped>\n",
       "    .dataframe tbody tr th:only-of-type {\n",
       "        vertical-align: middle;\n",
       "    }\n",
       "\n",
       "    .dataframe tbody tr th {\n",
       "        vertical-align: top;\n",
       "    }\n",
       "\n",
       "    .dataframe thead th {\n",
       "        text-align: right;\n",
       "    }\n",
       "</style>\n",
       "<table border=\"1\" class=\"dataframe\">\n",
       "  <thead>\n",
       "    <tr style=\"text-align: right;\">\n",
       "      <th></th>\n",
       "      <th>Quantity</th>\n",
       "      <th>TotalValue</th>\n",
       "      <th>Price</th>\n",
       "    </tr>\n",
       "  </thead>\n",
       "  <tbody>\n",
       "    <tr>\n",
       "      <th>count</th>\n",
       "      <td>1000.000000</td>\n",
       "      <td>1000.000000</td>\n",
       "      <td>1000.00000</td>\n",
       "    </tr>\n",
       "    <tr>\n",
       "      <th>mean</th>\n",
       "      <td>2.537000</td>\n",
       "      <td>689.995560</td>\n",
       "      <td>272.55407</td>\n",
       "    </tr>\n",
       "    <tr>\n",
       "      <th>std</th>\n",
       "      <td>1.117981</td>\n",
       "      <td>493.144478</td>\n",
       "      <td>140.73639</td>\n",
       "    </tr>\n",
       "    <tr>\n",
       "      <th>min</th>\n",
       "      <td>1.000000</td>\n",
       "      <td>16.080000</td>\n",
       "      <td>16.08000</td>\n",
       "    </tr>\n",
       "    <tr>\n",
       "      <th>25%</th>\n",
       "      <td>2.000000</td>\n",
       "      <td>295.295000</td>\n",
       "      <td>147.95000</td>\n",
       "    </tr>\n",
       "    <tr>\n",
       "      <th>50%</th>\n",
       "      <td>3.000000</td>\n",
       "      <td>588.880000</td>\n",
       "      <td>299.93000</td>\n",
       "    </tr>\n",
       "    <tr>\n",
       "      <th>75%</th>\n",
       "      <td>4.000000</td>\n",
       "      <td>1011.660000</td>\n",
       "      <td>404.40000</td>\n",
       "    </tr>\n",
       "    <tr>\n",
       "      <th>max</th>\n",
       "      <td>4.000000</td>\n",
       "      <td>1991.040000</td>\n",
       "      <td>497.76000</td>\n",
       "    </tr>\n",
       "  </tbody>\n",
       "</table>\n",
       "</div>"
      ],
      "text/plain": [
       "          Quantity   TotalValue       Price\n",
       "count  1000.000000  1000.000000  1000.00000\n",
       "mean      2.537000   689.995560   272.55407\n",
       "std       1.117981   493.144478   140.73639\n",
       "min       1.000000    16.080000    16.08000\n",
       "25%       2.000000   295.295000   147.95000\n",
       "50%       3.000000   588.880000   299.93000\n",
       "75%       4.000000  1011.660000   404.40000\n",
       "max       4.000000  1991.040000   497.76000"
      ]
     },
     "execution_count": 8,
     "metadata": {},
     "output_type": "execute_result"
    }
   ],
   "source": [
    "transactions.describe()"
   ]
  },
  {
   "cell_type": "markdown",
   "id": "826b569a-6743-49e8-ac81-3348ac2098c8",
   "metadata": {},
   "source": [
    "#### distribution of customer regions"
   ]
  },
  {
   "cell_type": "code",
   "execution_count": 34,
   "id": "5b8deedd-ea5c-4af3-b6a1-3472e12a512e",
   "metadata": {},
   "outputs": [
    {
     "name": "stdout",
     "output_type": "stream",
     "text": [
      "Region\n",
      "South America    59\n",
      "Europe           50\n",
      "North America    46\n",
      "Asia             45\n",
      "Name: count, dtype: int64\n"
     ]
    },
    {
     "name": "stderr",
     "output_type": "stream",
     "text": [
      "C:\\Users\\sridh\\AppData\\Local\\Temp\\ipykernel_2600\\87772424.py:4: FutureWarning: \n",
      "\n",
      "Passing `palette` without assigning `hue` is deprecated and will be removed in v0.14.0. Assign the `x` variable to `hue` and set `legend=False` for the same effect.\n",
      "\n",
      "  sns.countplot(data=customers, x='Region', palette='Set2')\n"
     ]
    },
    {
     "data": {
      "image/png": "[encoded data removed]",
      "text/plain": [
       "<Figure size 800x600 with 1 Axes>"
      ]
     },
     "metadata": {},
     "output_type": "display_data"
    }
   ],
   "source": [
    "region_counts = customers['Region'].value_counts()\n",
    "print(region_counts)\n",
    "plt.figure(figsize=(8,6))\n",
    "sns.countplot(data=customers, x='Region', palette='Set2')\n",
    "plt.title('Customer Distribution by Region')\n",
    "plt.show()"
   ]
  },
  {
   "cell_type": "markdown",
   "id": "e6818639-98e4-4835-bd41-15544db984be",
   "metadata": {},
   "source": [
    "#### number of transactions by product category"
   ]
  },
  {
   "cell_type": "code",
   "execution_count": 41,
   "id": "e0662855-a902-466e-b0be-ffdf199df235",
   "metadata": {},
   "outputs": [
    {
     "name": "stdout",
     "output_type": "stream",
     "text": [
      "Category\n",
      "Books          270\n",
      "Electronics    254\n",
      "Home Decor     248\n",
      "Clothing       228\n",
      "Name: count, dtype: int64\n"
     ]
    },
    {
     "name": "stderr",
     "output_type": "stream",
     "text": [
      "C:\\Users\\sridh\\AppData\\Local\\Temp\\ipykernel_2600\\1149398613.py:5: FutureWarning: \n",
      "\n",
      "Passing `palette` without assigning `hue` is deprecated and will be removed in v0.14.0. Assign the `x` variable to `hue` and set `legend=False` for the same effect.\n",
      "\n",
      "  sns.countplot(data = product_category_sales, x = 'Category', palette='Set3')\n"
     ]
    },
    {
     "data": {
      "image/png": "[encoded data removed]",
      "text/plain": [
       "<Figure size 1000x500 with 1 Axes>"
      ]
     },
     "metadata": {},
     "output_type": "display_data"
    }
   ],
   "source": [
    "product_category_sales = transactions.merge(products[['ProductID', 'Category']], on='ProductID', how='left')\n",
    "category_sales = product_category_sales['Category'].value_counts()\n",
    "print(category_sales)\n",
    "plt.figure(figsize=(10,5))\n",
    "sns.countplot(data = product_category_sales, x = 'Category', palette='Set3')\n",
    "plt.title('Number of Transactions by Product Category')\n",
    "plt.xticks(rotation=45)\n",
    "plt.show()"
   ]
  },
  {
   "cell_type": "markdown",
   "id": "563a664b-aba8-4af2-a6a6-2d34f5d8d469",
   "metadata": {},
   "source": [
    "#### price distribution of products"
   ]
  },
  {
   "cell_type": "code",
   "execution_count": 43,
   "id": "7de7fc03-97ff-4c75-9b26-fd42c051e51f",
   "metadata": {},
   "outputs": [
    {
     "data": {
      "image/png": "[encoded data removed]",
      "text/plain": [
       "<Figure size 1000x600 with 1 Axes>"
      ]
     },
     "metadata": {},
     "output_type": "display_data"
    }
   ],
   "source": [
    "plt.figure(figsize=(10,6))\n",
    "sns.histplot(products['Price'], kde=True, bins=20, color='green')\n",
    "plt.title('Price Distribution of Products')\n",
    "plt.xlabel('Price in USD')\n",
    "plt.ylabel('Frequency')\n",
    "plt.show()"
   ]
  },
  {
   "cell_type": "markdown",
   "id": "2f9fc700-1f7e-42cb-982c-e4a2618af96c",
   "metadata": {},
   "source": [
    "#### # Merging `transactions` with `products` to get product information including 'Price'\n"
   ]
  },
  {
   "cell_type": "code",
   "execution_count": 45,
   "id": "24516d7d-8b09-4a69-9368-c7ae664b08c5",
   "metadata": {},
   "outputs": [],
   "source": [
    "transactions = transactions.merge(products[['ProductID', 'Price', 'Category']], on='ProductID', how='left')\n"
   ]
  },
  {
   "cell_type": "code",
   "execution_count": 56,
   "id": "77847a62-a35d-43a8-8415-4c208c138e44",
   "metadata": {},
   "outputs": [
    {
     "name": "stdout",
     "output_type": "stream",
     "text": [
      "Columns in Products:\n",
      "Index(['ProductID', 'ProductName', 'Category', 'Price'], dtype='object')\n",
      "Columns in Transactions:\n",
      "Index(['TransactionID', 'CustomerID', 'ProductID', 'TransactionDate',\n",
      "       'Quantity', 'TotalValue', 'Price_x', 'Price_y', 'Category_x', 'Price',\n",
      "       'Category_y'],\n",
      "      dtype='object')\n",
      "Columns in Transactions after Merge:\n",
      "Index(['TransactionID', 'CustomerID', 'ProductID', 'TransactionDate',\n",
      "       'Quantity', 'TotalValue', 'Price_x', 'Price_y', 'Category_x', 'Price',\n",
      "       'Category_y', 'Price_from_products', 'Category'],\n",
      "      dtype='object')\n",
      "  TransactionID CustomerID ProductID     TransactionDate  Quantity  \\\n",
      "0        T00001      C0199      P067 2024-08-25 12:38:23         1   \n",
      "1        T00112      C0146      P067 2024-05-27 22:23:54         1   \n",
      "2        T00166      C0127      P067 2024-04-25 07:38:55         1   \n",
      "3        T00272      C0087      P067 2024-03-26 22:55:37         2   \n",
      "4        T00363      C0070      P067 2024-03-21 15:10:10         3   \n",
      "\n",
      "   TotalValue  Price_x  Price_y   Category_x   Price   Category_y  \\\n",
      "0      300.68   300.68   300.68  Electronics  300.68  Electronics   \n",
      "1      300.68   300.68   300.68  Electronics  300.68  Electronics   \n",
      "2      300.68   300.68   300.68  Electronics  300.68  Electronics   \n",
      "3      601.36   300.68   300.68  Electronics  300.68  Electronics   \n",
      "4      902.04   300.68   300.68  Electronics  300.68  Electronics   \n",
      "\n",
      "   Price_from_products     Category  \n",
      "0               300.68  Electronics  \n",
      "1               300.68  Electronics  \n",
      "2               300.68  Electronics  \n",
      "3               300.68  Electronics  \n",
      "4               300.68  Electronics  \n"
     ]
    }
   ],
   "source": [
    "# Checking  the column names in products and transactions to make sure the merge is correct\n",
    "\n",
    "print(\"Columns in Products:\")\n",
    "print(products.columns)\n",
    "\n",
    "print(\"Columns in Transactions:\")\n",
    "print(transactions.columns)\n",
    "\n",
    "# performing the merge explicitly renaming the 'Price' and 'Category' columns to avoid conflicts\n",
    "transactions = transactions.merge(products[['ProductID', 'Price', 'Category']], on='ProductID', how='left', suffixes=('', '_from_products'))\n",
    "\n",
    "# Checking the column names again after the merge\n",
    "print(\"Columns in Transactions after Merge:\")\n",
    "print(transactions.columns)\n",
    "\n",
    "#  the first few rows to check if Price and Category are added correctly\n",
    "print(transactions.head())\n",
    "\n",
    "# If 'Price_from_products' and 'Category' exist, perform the TotalValue calculation\n",
    "if 'Price_from_products' in transactions.columns and 'Category' in transactions.columns:\n",
    "    transactions['TotalValue'] = transactions['Quantity'] * transactions['Price_from_products']\n",
    "else:\n",
    "    print(\"Price_from_products or Category column is still missing!\")\n",
    "\n"
   ]
  },
  {
   "cell_type": "code",
   "execution_count": 52,
   "id": "d22b84fd-12e3-4752-8474-12f70e739627",
   "metadata": {},
   "outputs": [
    {
     "name": "stdout",
     "output_type": "stream",
     "text": [
      "Columns in Products:\n",
      "Index(['ProductID', 'ProductName', 'Category', 'Price'], dtype='object')\n",
      "Columns in Transactions:\n",
      "Index(['TransactionID', 'CustomerID', 'ProductID', 'TransactionDate',\n",
      "       'Quantity', 'TotalValue', 'Price_x', 'Price_y', 'Category'],\n",
      "      dtype='object')\n",
      "Sample ProductID values in Products:\n",
      "0    P001\n",
      "1    P002\n",
      "2    P003\n",
      "3    P004\n",
      "4    P005\n",
      "Name: ProductID, dtype: object\n",
      "Sample ProductID values in Transactions:\n",
      "0    P067\n",
      "1    P067\n",
      "2    P067\n",
      "3    P067\n",
      "4    P067\n",
      "Name: ProductID, dtype: object\n",
      "Columns in Transactions after Merge:\n",
      "Index(['TransactionID', 'CustomerID', 'ProductID', 'TransactionDate',\n",
      "       'Quantity', 'TotalValue', 'Price_x', 'Price_y', 'Category_x', 'Price',\n",
      "       'Category_y'],\n",
      "      dtype='object')\n",
      "  TransactionID CustomerID ProductID     TransactionDate  Quantity  \\\n",
      "0        T00001      C0199      P067 2024-08-25 12:38:23         1   \n",
      "1        T00112      C0146      P067 2024-05-27 22:23:54         1   \n",
      "2        T00166      C0127      P067 2024-04-25 07:38:55         1   \n",
      "3        T00272      C0087      P067 2024-03-26 22:55:37         2   \n",
      "4        T00363      C0070      P067 2024-03-21 15:10:10         3   \n",
      "\n",
      "   TotalValue  Price_x  Price_y   Category_x   Price   Category_y  \n",
      "0      300.68   300.68   300.68  Electronics  300.68  Electronics  \n",
      "1      300.68   300.68   300.68  Electronics  300.68  Electronics  \n",
      "2      300.68   300.68   300.68  Electronics  300.68  Electronics  \n",
      "3      601.36   300.68   300.68  Electronics  300.68  Electronics  \n",
      "4      902.04   300.68   300.68  Electronics  300.68  Electronics  \n"
     ]
    }
   ],
   "source": [
    "# Checking the column names in products and transactions to make sure the merge is correct\n",
    "\n",
    "print(\"Columns in Products:\")\n",
    "print(products.columns)\n",
    "\n",
    "print(\"Columns in Transactions:\")\n",
    "print(transactions.columns)\n",
    "\n",
    "# Checking a few sample values of ProductID in both datasets to make sure they match\n",
    "print(\"Sample ProductID values in Products:\")\n",
    "print(products['ProductID'].head())\n",
    "\n",
    "print(\"Sample ProductID values in Transactions:\")\n",
    "print(transactions['ProductID'].head())\n",
    "\n",
    "# performing the merge after confirming column names\n",
    "transactions = transactions.merge(products[['ProductID', 'Price', 'Category']], on='ProductID', how='left')\n",
    "\n",
    "# Checking the column names again after the merge\n",
    "print(\"Columns in Transactions after Merge:\")\n",
    "print(transactions.columns)\n",
    "\n",
    "# Verify the first few rows to check if Price is added correctly\n",
    "print(transactions.head())\n",
    "\n",
    "# If 'Price' exists, perform the TotalValue calculation\n",
    "if 'Price' in transactions.columns:\n",
    "    transactions['TotalValue'] = transactions['Quantity'] * transactions['Price']\n",
    "else:\n",
    "    print(\"Price column is still missing!\")\n"
   ]
  },
  {
   "cell_type": "code",
   "execution_count": 48,
   "id": "2ccca4a2-eedb-4269-89df-271928841b90",
   "metadata": {},
   "outputs": [
    {
     "name": "stdout",
     "output_type": "stream",
     "text": [
      "The 'Price' column is missing after the merge!\n"
     ]
    }
   ],
   "source": [
    "if 'Price' in transactions.columns:\n",
    "    transactions['TotalValue'] = transactions['Quantity'] * transactions['Price']\n",
    "else:\n",
    "    print(\"The 'Price' column is missing after the merge!\")"
   ]
  },
  {
   "cell_type": "markdown",
   "id": "1434ce6a-52d2-4c13-8385-6463c2c1e424",
   "metadata": {},
   "source": [
    "#### Total Value by Product Category"
   ]
  },
  {
   "cell_type": "code",
   "execution_count": 49,
   "id": "a4f449c9-cc9f-4cfd-9323-1f9bcad4572b",
   "metadata": {},
   "outputs": [
    {
     "name": "stdout",
     "output_type": "stream",
     "text": [
      "Category\n",
      "Books          192147.47\n",
      "Electronics    180783.50\n",
      "Clothing       166170.66\n",
      "Home Decor     150893.93\n",
      "Name: TotalValue, dtype: float64\n"
     ]
    },
    {
     "data": {
      "image/png": "[encoded data removed]",
      "text/plain": [
       "<Figure size 1200x600 with 1 Axes>"
      ]
     },
     "metadata": {},
     "output_type": "display_data"
    }
   ],
   "source": [
    "category_sales_value = transactions.groupby('Category')['TotalValue'].sum().sort_values(ascending=False)\n",
    "print(category_sales_value)\n",
    "category_sales_value.plot(kind='bar', figsize=(12, 6), color='purple')\n",
    "plt.title('Total Sales Value by Product Category')\n",
    "plt.ylabel('Total Value in USD')\n",
    "plt.show()"
   ]
  },
  {
   "cell_type": "markdown",
   "id": "8d1dd5d9-2933-4cb4-ad92-3119914ccb45",
   "metadata": {},
   "source": [
    "#### sales trend over time"
   ]
  },
  {
   "cell_type": "code",
   "execution_count": 58,
   "id": "a9b8c6af-d4dc-458b-a757-4538b909f76a",
   "metadata": {},
   "outputs": [
    {
     "data": {
      "image/png": "[encoded data removed]",
      "text/plain": [
       "<Figure size 1200x600 with 1 Axes>"
      ]
     },
     "metadata": {},
     "output_type": "display_data"
    }
   ],
   "source": [
    "monthly_sales = transactions.groupby(transactions['TransactionDate'].dt.to_period('M')).agg({'TotalValue': 'sum'}).reset_index()\n",
    "monthly_sales['TransactionDate'] = monthly_sales['TransactionDate'].dt.to_timestamp()\n",
    "plt.figure(figsize=(12, 6))\n",
    "sns.lineplot(x='TransactionDate', y='TotalValue', data=monthly_sales, marker='o', color='blue')\n",
    "plt.title('Sales Trend Over Time')\n",
    "plt.xlabel('Date')\n",
    "plt.ylabel('Total Sales Value in USD')\n",
    "plt.xticks(rotation=45)\n",
    "plt.show()"
   ]
  },
  {
   "cell_type": "markdown",
   "id": "f7f97908-9f98-48ce-aa29-2b1d2b4684a1",
   "metadata": {},
   "source": [
    "#### average quantity vs price"
   ]
  },
  {
   "cell_type": "code",
   "execution_count": 63,
   "id": "9e3aabfe-78af-4354-bf34-dda9cddb3f84",
   "metadata": {},
   "outputs": [
    {
     "data": {
      "image/png": "[encoded data removed]",
      "text/plain": [
       "<Figure size 800x600 with 1 Axes>"
      ]
     },
     "metadata": {},
     "output_type": "display_data"
    }
   ],
   "source": [
    "avg_qty_price = transactions.groupby('ProductID').agg({'Quantity': 'mean', 'Price': 'mean'}).reset_index()\n",
    "plt.figure(figsize=(8, 6))\n",
    "sns.scatterplot(x='Price', y='Quantity', data=avg_qty_price, color='red')\n",
    "plt.title('Average Quantity vs Price')\n",
    "plt.xlabel('Price')\n",
    "plt.ylabel('Average Quantity Sold')\n",
    "plt.show()"
   ]
  },
  {
   "cell_type": "markdown",
   "id": "8b9b33f5-7b14-48b7-8be1-609e50353fda",
   "metadata": {},
   "source": [
    "# Generating Business Insights (5 Key Insights)\n",
    "# Insight 1: High Customer Activity in Specific Regions"
   ]
  },
  {
   "cell_type": "code",
   "execution_count": 68,
   "id": "33b770e0-c67f-4e1b-a712-b87d2d842d50",
   "metadata": {},
   "outputs": [],
   "source": [
    "region_counts = customers['Region'].value_counts()\n",
    "insight_1 = f\"High activity in regions like {', '.join(region_counts.head(3).index)} where the majority of customers reside. These regions could be targeted for more personalized marketing.\""
   ]
  },
  {
   "cell_type": "markdown",
   "id": "4bc9779d-8e07-4a0f-a1fc-186884926620",
   "metadata": {},
   "source": [
    "# Insight 2: Popular Product Categories and Revenue Generation"
   ]
  },
  {
   "cell_type": "code",
   "execution_count": 67,
   "id": "1e12a66b-baff-4a35-a352-a537e5ff810f",
   "metadata": {},
   "outputs": [],
   "source": [
    "category_sales_value = transaction_data.groupby('Category')['TotalValue'].sum().sort_values(ascending=False)\n",
    "insight_2 = f\"Product categories such as {', '.join(category_sales_value.head(2).index)} contribute the highest sales revenue. Focusing on these categories for inventory and promotions would yield high returns.\""
   ]
  },
  {
   "cell_type": "markdown",
   "id": "3d241549-9e7b-4d09-80af-4b544db6784e",
   "metadata": {},
   "source": [
    "# Insight 3: Price Sensitivity Among Customers"
   ]
  },
  {
   "cell_type": "code",
   "execution_count": 70,
   "id": "12f4f6ca-0bbc-46a7-a75b-c96c65a4bf7c",
   "metadata": {},
   "outputs": [],
   "source": [
    "price_sales = products.groupby('Price')['ProductID'].count().reset_index()\n",
    "insight_3 = \"Moderately priced products in the $20-$50 range have higher quantities sold, indicating customers are more likely to buy these items over higher-priced ones.\""
   ]
  },
  {
   "cell_type": "markdown",
   "id": "74d56399-788c-43db-8e23-323a8b569849",
   "metadata": {},
   "source": [
    "# Insight 4: Customer Retention and Repeat Purchases"
   ]
  },
  {
   "cell_type": "code",
   "execution_count": 72,
   "id": "c5e6a0f4-ad0d-4cb5-9ec3-976b009a7fb1",
   "metadata": {},
   "outputs": [],
   "source": [
    "recent_customers = customers[customers['SignupDate'] > '2023-01-01']\n",
    "recent_customers_transactions = transactions[transactions['CustomerID'].isin(recent_customers['CustomerID'])]\n"
   ]
  }
 ],
 "metadata": {
  "kernelspec": {
   "display_name": "Python 3 (ipykernel)",
   "language": "python",
   "name": "python3"
  },
  "language_info": {
   "codemirror_mode": {
    "name": "ipython",
    "version": 3
   },
   "file_extension": ".py",
   "mimetype": "text/x-python",
   "name": "python",
   "nbconvert_exporter": "python",
   "pygments_lexer": "ipython3",
   "version": "3.12.7"
  }
 },
 "nbformat": 4,
 "nbformat_minor": 5
}
