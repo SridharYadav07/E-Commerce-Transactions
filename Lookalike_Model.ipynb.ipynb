{
 "cells": [
  {
   "cell_type": "markdown",
   "id": "02ef87a7-f9f3-4035-ba52-db255f6a190c",
   "metadata": {},
   "source": [
    "#### importing necessaries libraries"
   ]
  },
  {
   "cell_type": "code",
   "execution_count": 19,
   "id": "efd12958-361b-48a6-aa45-bfa08188a800",
   "metadata": {},
   "outputs": [],
   "source": [
    "import pandas as pd\n",
    "import numpy as np\n",
    "from sklearn.preprocessing import StandardScaler\n",
    "from sklearn.metrics.pairwise import cosine_similarity"
   ]
  },
  {
   "cell_type": "markdown",
   "id": "e12676d7-cf71-486a-8bff-0ba61f4d90c5",
   "metadata": {},
   "source": [
    "#### loading the datasets"
   ]
  },
  {
   "cell_type": "code",
   "execution_count": 4,
   "id": "635629ac-6668-4841-b54a-e9d3b9144fc3",
   "metadata": {},
   "outputs": [],
   "source": [
    "customers = pd.read_csv('Customers.csv')\n",
    "transactions = pd.read_csv('Transactions.csv')\n",
    "products = pd.read_csv('Products.csv')"
   ]
  },
  {
   "cell_type": "markdown",
   "id": "4365e3cb-b888-41b5-9d34-db5e3636ae26",
   "metadata": {},
   "source": [
    "#### featuring engineering\n",
    "#### merging customer and transaction data to create customer profiles"
   ]
  },
  {
   "cell_type": "code",
   "execution_count": 6,
   "id": "eb76137d-6158-451d-99ce-425f560821e0",
   "metadata": {},
   "outputs": [],
   "source": [
    "transactions = transactions.merge(customers[['CustomerID', 'Region']], on='CustomerID', how='left')\n",
    "transactions = transactions.merge(products[['ProductID', 'Category']], on='ProductID', how='left')"
   ]
  },
  {
   "cell_type": "markdown",
   "id": "9ad58bd6-3931-4e75-811c-1b453a3dbfb0",
   "metadata": {},
   "source": [
    "#### aggregate the transaction data by customer"
   ]
  },
  {
   "cell_type": "code",
   "execution_count": 8,
   "id": "e5f52023-f60b-45c4-836e-05dd60e201cd",
   "metadata": {},
   "outputs": [],
   "source": [
    "customer_profile = transactions.groupby('CustomerID').agg(\n",
    "    total_value=('TotalValue', 'sum'),\n",
    "    num_transactions=('TransactionID', 'nunique'),\n",
    "    num_products=('ProductID', 'nunique'),\n",
    "    avg_spending=('TotalValue', 'mean'),\n",
    "    most_common_category=('Category', lambda x: x.mode()[0]),\n",
    ").reset_index()"
   ]
  },
  {
   "cell_type": "markdown",
   "id": "680c543d-ca28-42e3-afb0-efaaec1e3117",
   "metadata": {},
   "source": [
    "#### adding demographic features like region and signup date\n",
    "#### convert signup date to datetime"
   ]
  },
  {
   "cell_type": "code",
   "execution_count": 9,
   "id": "5e7a3619-6676-40b9-bede-72e5cc024f65",
   "metadata": {},
   "outputs": [],
   "source": [
    "customers['SignupDate'] = pd.to_datetime(customers['SignupDate'])\n",
    "customers['signup_year'] = customers['SignupDate'].dt.year\n",
    "customers['signup_month'] = customers['SignupDate'].dt.month"
   ]
  },
  {
   "cell_type": "markdown",
   "id": "212a4cf6-d8f0-4291-a4c9-6283f5f09489",
   "metadata": {},
   "source": [
    "####  merging the demographic features with the transaction based features"
   ]
  },
  {
   "cell_type": "code",
   "execution_count": 10,
   "id": "3249f073-8b8f-4952-bdfb-660300972764",
   "metadata": {},
   "outputs": [],
   "source": [
    "customer_profile = customer_profile.merge(customers[['CustomerID', 'Region', 'signup_year', 'signup_month']], on='CustomerID', how='left')"
   ]
  },
  {
   "cell_type": "markdown",
   "id": "881713ce-a84b-4881-bd5e-5aed36eaf824",
   "metadata": {},
   "source": [
    "#### standardize numeric features for similarity calculaion"
   ]
  },
  {
   "cell_type": "code",
   "execution_count": 13,
   "id": "d9281df3-01b4-46e8-b4d9-fd4af6fd00ab",
   "metadata": {},
   "outputs": [],
   "source": [
    "scaler = StandardScaler()"
   ]
  },
  {
   "cell_type": "code",
   "execution_count": 15,
   "id": "8d1750b9-b810-4a74-a0b2-7ded7fe129c6",
   "metadata": {},
   "outputs": [],
   "source": [
    "numeric_features=['total_value', 'num_transactions', 'num_products', 'avg_spending']\n",
    "customer_profile[numeric_features] = scaler.fit_transform(customer_profile[numeric_features])"
   ]
  },
  {
   "cell_type": "markdown",
   "id": "17c18636-fa2b-48b0-9dbb-402fa0197a74",
   "metadata": {},
   "source": [
    "#### convert categorical features into one hot encoding"
   ]
  },
  {
   "cell_type": "code",
   "execution_count": 16,
   "id": "10c09d74-3462-4f99-a7dc-d15c925941f6",
   "metadata": {},
   "outputs": [],
   "source": [
    "customer_profile = pd.get_dummies(customer_profile, columns=['Region'], drop_first=True)"
   ]
  },
  {
   "cell_type": "markdown",
   "id": "dce00bae-e8eb-4325-8156-de673adb9483",
   "metadata": {},
   "source": [
    "#### preparing the data for similarity calculation"
   ]
  },
  {
   "cell_type": "code",
   "execution_count": 17,
   "id": "22b6b534-de32-4ef8-a793-caccab2f00ba",
   "metadata": {},
   "outputs": [],
   "source": [
    "feature_columns = numeric_features + [col for col in customer_profile.columns if col.startswith('Region')]\n",
    "X = customer_profile[feature_columns]"
   ]
  },
  {
   "cell_type": "markdown",
   "id": "8f94bc8e-6cc9-4daf-bf49-7de0ec6bddd7",
   "metadata": {},
   "source": [
    "#### compute the cosine similarity between all customers"
   ]
  },
  {
   "cell_type": "code",
   "execution_count": 21,
   "id": "0214c4ed-f553-4881-8142-b8a8eca363aa",
   "metadata": {},
   "outputs": [],
   "source": [
    "cosine_sim = cosine_similarity(X)"
   ]
  },
  {
   "cell_type": "markdown",
   "id": "cc783f89-2356-4621-b35b-e2dd04f1670e",
   "metadata": {},
   "source": [
    "#### functions to get the top 3 most similar customers for a given customer"
   ]
  },
  {
   "cell_type": "code",
   "execution_count": 40,
   "id": "4927e529-f297-413d-8239-bde58ac055f0",
   "metadata": {},
   "outputs": [],
   "source": [
    "def get_top_3_similar_customer(customer_id, sim_matrix, customer_ids):\n",
    "    idx = customer_ids.index(customer_id)\n",
    "    sim_scores = list(enumerate(sim_matrix[idx]))\n",
    "    sim_scores = sorted(sim_scores, key=lambda x: x[1], reverse=True)[1:4]\n",
    "    top_3 = [(customer_ids[i[0]], i[1]) for i in sim_scores]\n",
    "    return top_3"
   ]
  },
  {
   "cell_type": "code",
   "execution_count": 38,
   "id": "9f70d6b1-9a34-46f6-ac4f-a037a8bd3aea",
   "metadata": {},
   "outputs": [],
   "source": [
    "customer_ids = customer_profile['CustomerID'].tolist()\n",
    "top_3_customers = {}"
   ]
  },
  {
   "cell_type": "code",
   "execution_count": 39,
   "id": "099a9c10-38c3-4ea1-ae69-b4bfc45b405d",
   "metadata": {},
   "outputs": [],
   "source": [
    "for customer_id in customer_ids[:20]:\n",
    "    top_3_customers[customer_id] = get_top_3_similar_customer(customer_id, cosine_sim, customer_ids)"
   ]
  },
  {
   "cell_type": "markdown",
   "id": "21cc9ce7-7394-4b74-9e09-3c6a8c47004e",
   "metadata": {},
   "source": [
    "#### preparing the output in the required format"
   ]
  },
  {
   "cell_type": "code",
   "execution_count": 42,
   "id": "4ea06a32-bd5c-4fd0-aae8-6635dfd66449",
   "metadata": {},
   "outputs": [],
   "source": [
    "lookalike_data = []\n",
    "for customer_id, similar_customers in top_3_customers.items():\n",
    "    for sim_customer, score in similar_customers:\n",
    "        lookalike_data.append([customer_id, sim_customer, score])\n",
    "lookalike_df = pd.DataFrame(lookalike_data, columns=['CustomerID', 'LookalikeCustomerID', 'SimilarityScore'])"
   ]
  },
  {
   "cell_type": "markdown",
   "id": "ad4e83f7-8f9e-426c-9478-cd2e708413fb",
   "metadata": {},
   "source": [
    "#### saving the output to a csv file"
   ]
  },
  {
   "cell_type": "code",
   "execution_count": 43,
   "id": "b6d99471-fc48-4f95-911b-a9775577999d",
   "metadata": {},
   "outputs": [],
   "source": [
    "lookalike_df.to_csv('lookalike.csv', index=False)"
   ]
  },
  {
   "cell_type": "code",
   "execution_count": 44,
   "id": "c793c5d2-3cd5-4fb4-97af-46a3ba90c01f",
   "metadata": {},
   "outputs": [
    {
     "name": "stdout",
     "output_type": "stream",
     "text": [
      "  CustomerID LookalikeCustomerID  SimilarityScore\n",
      "0      C0001               C0137         0.999762\n",
      "1      C0001               C0152         0.999512\n",
      "2      C0001               C0107         0.964257\n",
      "3      C0002               C0043         0.987504\n",
      "4      C0002               C0142         0.977492\n"
     ]
    }
   ],
   "source": [
    "print(lookalike_df.head())"
   ]
  }
 ],
 "metadata": {
  "kernelspec": {
   "display_name": "Python 3 (ipykernel)",
   "language": "python",
   "name": "python3"
  },
  "language_info": {
   "codemirror_mode": {
    "name": "ipython",
    "version": 3
   },
   "file_extension": ".py",
   "mimetype": "text/x-python",
   "name": "python",
   "nbconvert_exporter": "python",
   "pygments_lexer": "ipython3",
   "version": "3.12.7"
  }
 },
 "nbformat": 4,
 "nbformat_minor": 5
}
